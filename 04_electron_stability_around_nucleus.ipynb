{
 "cells": [
  {
   "cell_type": "code",
   "execution_count": null,
   "metadata": {},
   "outputs": [],
   "source": [
    "__author__ = \"Dong Qichen\"\n",
    "__license__ = \"GPL\"\n",
    "__version__ = \"3.0\""
   ]
  },
  {
   "cell_type": "code",
   "execution_count": 26,
   "metadata": {},
   "outputs": [],
   "source": [
    "%matplotlib inline\n",
    "import matplotlib.pyplot as plt\n",
    "from matplotlib import cm\n",
    "import numpy as np\n",
    "from matplotlib import animation\n",
    "import IPython.display\n",
    "import scipy\n",
    "import sympy.vector"
   ]
  },
  {
   "cell_type": "code",
   "execution_count": 27,
   "metadata": {},
   "outputs": [],
   "source": [
    "e = 1.6e-19 #C\n",
    "m_e = 9.1093837e-31 #kg\n",
    "c = 299792458.0 #m/s\n",
    "alpha = 1/137 \n",
    "epsilon_0 = 8.8541878128e-12 #F/m\n",
    "ev_to_joule = 1.60218e-19\n"
   ]
  },
  {
   "cell_type": "markdown",
   "metadata": {},
   "source": [
    "---"
   ]
  },
  {
   "cell_type": "markdown",
   "metadata": {},
   "source": [
    "Early model of the hydrogen atom pictured an electron moving around in a planetary orbit around a proton. Radius is initially ~ $0.53\\times10^{-10}$ m (first Bohr orbit)\n",
    "\n",
    "*what is the energy of the emitted radiation?*\n",
    "\n",
    "Centripetal force is equal to the Coulomb force: $$\\frac{mv^2}{r} = \\frac{e^2}{4\\pi\\epsilon_0r^2}$$, and the total energy is given by $$W=T+U=\\frac{1}{2}mv^2-\\frac{e^2}{4\\pi\\epsilon_0r^2}=-\\frac{e^2}{8\\pi\\epsilon_0r^2}$$"
   ]
  },
  {
   "cell_type": "code",
   "execution_count": 45,
   "metadata": {},
   "outputs": [
    {
     "name": "stdout",
     "output_type": "stream",
     "text": [
      "W = -13.547657 eV\n"
     ]
    }
   ],
   "source": [
    "r = 0.53e-10 #m\n",
    "W=-e**2/(8*np.pi*epsilon_0*r) / ev_to_joule\n",
    "print('W = {:5f} eV'.format(W))"
   ]
  },
  {
   "cell_type": "markdown",
   "metadata": {},
   "source": [
    "---"
   ]
  },
  {
   "cell_type": "markdown",
   "metadata": {},
   "source": [
    "Recall $$P_L = \\frac{e^2a^2}{6\\pi\\epsilon_0c^3}$$, and KE, $$T = \\frac{1/2}m\\omega^2r^2=13.6\\text{ eV}$$, where $a=\\frac{v^2}{r}=\\omega^2r$. Thus, $$P_L=\\frac{2e^2c}{3\\pi\\epsilon_0r^2}(\\frac{T}{mc^2})^2$$"
   ]
  },
  {
   "cell_type": "code",
   "execution_count": 49,
   "metadata": {},
   "outputs": [
    {
     "name": "stdout",
     "output_type": "stream",
     "text": [
      "PL = 2.87E+11 eV/s\n"
     ]
    }
   ],
   "source": [
    "T = -W * ev_to_joule\n",
    "PL=2 * e**2 * c * T**2 / 3 / np.pi / epsilon_0 / r**2 / m_e**2 / c**4 / ev_to_joule\n",
    "print('PL = {:.2E} eV/s'.format(PL))"
   ]
  },
  {
   "cell_type": "markdown",
   "metadata": {},
   "source": [
    "**HUGE!!!** the electron would clearly spiral into the nucleus - hence the QM interpretation is needed\n",
    "\n",
    "--- "
   ]
  },
  {
   "cell_type": "markdown",
   "metadata": {},
   "source": [
    "### Find the time for the system to collapse to zero, $W\\rightarrow -\\infty$"
   ]
  },
  {
   "cell_type": "markdown",
   "metadata": {},
   "source": [
    "Recall $$U=-2T=-2W,$$ we can use this to rewrite the Larmor Power, $$\\frac{dW}{dt} = -P_L=\\frac{128\\pi\\epsilon_0c}{3e^2m^2c^4}W^4.$$ The corresponding time decay is $$\\Delta t = -\\frac{dW}{P_L} = \\frac{3e^2m^2c^4}{128\\pi\\epsilon_0c}\\int^{\\infty}_{W_0=-T_0}{\\frac{dW}{W^4}}=\\frac{e^2m^2c^4}{128\\pi c\\epsilon_0T_0^3}$$"
   ]
  },
  {
   "cell_type": "code",
   "execution_count": 52,
   "metadata": {},
   "outputs": [
    {
     "name": "stdout",
     "output_type": "stream",
     "text": [
      "delta_t = 1.57E-11 s\n"
     ]
    }
   ],
   "source": [
    "delta_t = e**2*m_e**2*c**4/128/np.pi/c/epsilon_0/T**3 #s\n",
    "print('delta_t = {:.2E} s'.format(delta_t))"
   ]
  }
 ],
 "metadata": {
  "kernelspec": {
   "display_name": "Python 3 (ipykernel)",
   "language": "python",
   "name": "python3"
  },
  "language_info": {
   "codemirror_mode": {
    "name": "ipython",
    "version": 3
   },
   "file_extension": ".py",
   "mimetype": "text/x-python",
   "name": "python",
   "nbconvert_exporter": "python",
   "pygments_lexer": "ipython3",
   "version": "3.10.12"
  },
  "vscode": {
   "interpreter": {
    "hash": "767d51c1340bd893661ea55ea3124f6de3c7a262a8b4abca0554b478b1e2ff90"
   }
  }
 },
 "nbformat": 4,
 "nbformat_minor": 4
}
