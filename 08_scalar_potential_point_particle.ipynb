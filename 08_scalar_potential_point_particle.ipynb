{
 "cells": [
  {
   "cell_type": "code",
   "execution_count": 1,
   "metadata": {},
   "outputs": [],
   "source": [
    "__author__ = \"Dong Qichen\"\n",
    "__license__ = \"GPL\"\n",
    "__version__ = \"3.0\""
   ]
  },
  {
   "cell_type": "code",
   "execution_count": null,
   "metadata": {
    "tags": []
   },
   "outputs": [],
   "source": [
    "%pip install ipywidgets ipympl --quiet\n",
    "%matplotlib widget\n",
    "\n",
    "# Enable the custom widget manager, this is specific to the colab environment\n",
    "from google.colab import output\n",
    "output.enable_custom_widget_manager()\n",
    "\n",
    "# Display the scalar potential for a point charge, for which the speed (in units of c), beta, can be varied \n",
    "# by means of a slider \n",
    "\n",
    "import matplotlib.pyplot as plt\n",
    "from matplotlib import cm\n",
    "from ipywidgets import AppLayout, FloatSlider\n",
    "plt.ioff()\n",
    "\n",
    "import numpy as np"
   ]
  },
  {
   "cell_type": "code",
   "execution_count": 3,
   "metadata": {
    "tags": []
   },
   "outputs": [],
   "source": [
    "# defining constants\n",
    "e = 1\n",
    "c = 1\n",
    "h = 2*np.pi\n",
    "alpha = 1/137\n",
    "epsilon_0 = e**2 / (2*alpha*h*c)\n",
    "\n",
    "# calculate scalar potential\n",
    "def calcA0(x_1, x_2, beta, q):\n",
    "    R = ((x_1)**2 + x_2**2) ** 0.5\n",
    "    theta = np.arctan(x_2/x_1)\n",
    "    A0 = q / (4*np.pi*epsilon_0*c*R)/(1 - beta*np.sin(theta)**2)**0.5\n",
    "    return A0\n"
   ]
  },
  {
   "cell_type": "code",
   "execution_count": 4,
   "metadata": {},
   "outputs": [],
   "source": [
    "# setting up figure, grid and colours to display scalar potential\n",
    "fig = plt.figure()\n",
    "x1_grid, x2_grid = np.meshgrid(np.linspace(-1,1, 500),np.linspace(-1,1, 500))\n",
    "\n",
    "ax = fig.add_subplot(111, autoscale_on=False, xlim=(-1, 1), ylim=(-1, 1), aspect='equal')\n",
    "mesh = ax.pcolormesh(x1_grid, x2_grid, np.zeros_like(x1_grid), cmap=cm.coolwarm, vmin=0, vmax=0.3)\n",
    "a_text = ax.text(0.02, 0.85, '', transform=ax.transAxes, fontsize=30)\n",
    "cb = plt.colorbar(mesh)"
   ]
  },
  {
   "cell_type": "code",
   "execution_count": 5,
   "metadata": {
    "tags": []
   },
   "outputs": [
    {
     "data": {
      "application/vnd.jupyter.widget-view+json": {
       "model_id": "8db3801e6fec4873bc36a86b6550225b",
       "version_major": 2,
       "version_minor": 0
      },
      "text/plain": [
       "AppLayout(children=(FloatSlider(value=0.0, description='Beta:', layout=Layout(grid_area='footer', width='80%')…"
      ]
     },
     "execution_count": 5,
     "metadata": {},
     "output_type": "execute_result"
    }
   ],
   "source": [
    "# defining a slider to input value of beta of point particle\n",
    "slider = FloatSlider(\n",
    "    orientation='horizontal',\n",
    "    description='Beta:',\n",
    "    value=0.0,\n",
    "    step=0.00005,\n",
    "    min=0.0,\n",
    "    max=0.99999,\n",
    "#    readout=True,\n",
    "#    readout_format='.5f',\n",
    ")\n",
    "\n",
    "slider.layout.width = '80%'\n",
    "\n",
    "# function that updates the plot when the user changes the slider position\n",
    "def update(beta_slider):\n",
    "# A trick just to expand the scale as beta-->1    \n",
    "    beta_new = (beta_slider.new)**0.2\n",
    "# Call function to calculate the scalar potential\n",
    "    A0s = calcA0(x1_grid, x2_grid, beta_new, 1)\n",
    "    mesh.set_array(A0s.ravel())\n",
    "# Write the value of beta\n",
    "    a_text.set_text('$\\\\beta$ = {:.7f}'.format(beta_new))\n",
    "    fig.canvas.draw()\n",
    "    fig.canvas.flush_events()\n",
    "\n",
    "slider.observe(update, names='value')\n",
    "\n",
    "# displaying the plot\n",
    "AppLayout(\n",
    "    center=fig.canvas,\n",
    "    footer=slider,\n",
    ")"
   ]
  },
  {
   "cell_type": "markdown",
   "metadata": {},
   "source": [
    "The scalar potential may be expressed by\n",
    "$$\\frac{V}{c}=A^0 = \\frac{q}{4\\pi \\varepsilon_0 cR}\\left(\\frac{1}{1-\\beta^2\\sin^2\\theta}\\right)^{\\frac{1}{2}},$$\n",
    "where $\\boldsymbol{R}$ is the vector from the current position  $x^1=\\beta x^0, x^2=0,x^3=0$ of the point charge to the point at which the field is\n",
    "evaluated. The magnitude of $R$ is given by\n",
    "$$R^2  = \\left[x^1-\\beta x^0\\right]^2+\\left(x^{2}\\right)^2+\\left(x^{3}\\right)^2.$$\n",
    " $\\theta$ is the angle between $\\boldsymbol{R}$ and the direction of motion.\n"
   ]
  },
  {
   "cell_type": "code",
   "execution_count": null,
   "metadata": {},
   "outputs": [],
   "source": []
  }
 ],
 "metadata": {
  "kernelspec": {
   "display_name": "Python 3 (ipykernel)",
   "language": "python",
   "name": "python3"
  },
  "language_info": {
   "codemirror_mode": {
    "name": "ipython",
    "version": 3
   },
   "file_extension": ".py",
   "mimetype": "text/x-python",
   "name": "python",
   "nbconvert_exporter": "python",
   "pygments_lexer": "ipython3",
   "version": "3.10.12"
  },
  "vscode": {
   "interpreter": {
    "hash": "767d51c1340bd893661ea55ea3124f6de3c7a262a8b4abca0554b478b1e2ff90"
   }
  }
 },
 "nbformat": 4,
 "nbformat_minor": 4
}
