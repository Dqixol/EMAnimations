{
 "cells": [
  {
   "cell_type": "code",
   "execution_count": 1,
   "id": "d6743e1c-3da6-4caf-bd6e-d07ee57ab194",
   "metadata": {},
   "outputs": [],
   "source": [
    "__author__ = \"Dong Qichen\"\n",
    "__license__ = \"GPL\"\n",
    "__version__ = \"3.0\""
   ]
  },
  {
   "cell_type": "code",
   "execution_count": 2,
   "id": "e8805371-9122-4512-98e1-006e3ce49415",
   "metadata": {
    "tags": []
   },
   "outputs": [],
   "source": [
    "%matplotlib widget\n",
    "\n",
    "# Display the scalar potential for a point charge, for which the speed (in units of c), beta, can be varied \n",
    "# by means of a slider \n",
    "\n",
    "import matplotlib.pyplot as plt\n",
    "from matplotlib import cm\n",
    "from ipywidgets import AppLayout, FloatSlider\n",
    "from ipywidgets import interact, interactive, fixed, interact_manual\n",
    "import matplotlib.ticker as ticker\n",
    "plt.ioff()\n",
    "\n",
    "import numpy as np"
   ]
  },
  {
   "cell_type": "code",
   "execution_count": 3,
   "id": "90bcfadc-8f98-4316-8e37-6846fb69c9b8",
   "metadata": {
    "tags": []
   },
   "outputs": [],
   "source": [
    "# Set fundamental constants relevant to electrodynamics.\n",
    "e = 1  # Elementary charge.\n",
    "c = 1  # Speed of light.\n",
    "h = 2 * np.pi  # Planck's constant.\n",
    "alpha = 1/137  # Fine-structure constant.\n",
    "epsilon_0 = e**2 / (2 * alpha * h * c)  # Vacuum permittivity."
   ]
  },
  {
   "cell_type": "code",
   "execution_count": 4,
   "id": "611d4177-39a0-4a07-923a-2bb5f290e16b",
   "metadata": {
    "tags": []
   },
   "outputs": [],
   "source": [
    "def getGamma(beta):\n",
    "    return 1 / (1 - beta**2)**0.5\n",
    "def bremsstrahlungPower(theta, phi, beta, betaDot, q):\n",
    "    return \\\n",
    "        epsilon_0 * c * q**2 / (16 * np.pi**2) \\\n",
    "        * np.sin(theta)**2 \\\n",
    "        * betaDot**2 / (1 - beta * np.cos(theta))**5"
   ]
  },
  {
   "cell_type": "code",
   "execution_count": 5,
   "id": "37ab77cc-50ad-40c3-be11-a06821be86df",
   "metadata": {
    "tags": []
   },
   "outputs": [
    {
     "data": {
      "application/vnd.jupyter.widget-view+json": {
       "model_id": "3be0db0cc59347d19588d41ffb6967dc",
       "version_major": 2,
       "version_minor": 0
      },
      "text/plain": [
       "interactive(children=(FloatSlider(value=1.0, description='betaDot', max=2.0, step=0.01), FloatSlider(value=2.5…"
      ]
     },
     "metadata": {},
     "output_type": "display_data"
    }
   ],
   "source": [
    "fig2d, ax2d = plt.subplots(subplot_kw={'projection': 'polar'})\n",
    "theta = np.arange(0, 2*np.pi, np.pi / 200)\n",
    "@interact(betaDot = (0.0, 2.0, 0.01), q = (0.1,5.0,0.1), qrestframe=True, beta = (0.0, 0.999, 0.001))\n",
    "def plotBremsstrahlungPower2D(betaDot, q, beta=0, qrestframe=True): \n",
    "    frame = \"charge rest frame\" if qrestframe else \"lab frame\"\n",
    "    power = bremsstrahlungPower(theta, 0, beta, betaDot, q)\n",
    "    power = power / getGamma(beta)**6 if qrestframe else power\n",
    "    ax2d.clear()\n",
    "    ax2d.set_title(f\"Bremsstrahlung Power, {frame}\")\n",
    "    ax2d.plot(theta, power)\n",
    "    ax2d.set_rmax(2)\n",
    "    ax2d.set_rticks([0, 0.5, 1.0, 1.5, 2])\n",
    "    return fig2d"
   ]
  },
  {
   "cell_type": "markdown",
   "id": "65916e83-5244-4907-9b69-f75be7bf9584",
   "metadata": {},
   "source": [
    "The radiated bremsstrahlung power per unit solid angle is given by\n",
    "  $$\\frac{\\mathrm{d}P_\\parallel}{\\mathrm{d}\\Omega} = \\frac{\\mu_0 c q^2}{16\\pi^2}\\frac{\\sin^2\\theta\\,\\dot\\beta^2}{\\left(1-\\beta\\cos\\theta\\right)^5},$$\n",
    "  where $\\theta$ is the angle between $\\boldsymbol{\\beta}$ and $\\boldsymbol{R}$"
   ]
  },
  {
   "cell_type": "code",
   "execution_count": 6,
   "id": "01af2bf1-a783-4277-9c69-74c9c4f5cad6",
   "metadata": {
    "tags": []
   },
   "outputs": [
    {
     "data": {
      "application/vnd.jupyter.widget-view+json": {
       "model_id": "2f086b20cc5c4676846bd01b95d86373",
       "version_major": 2,
       "version_minor": 0
      },
      "text/plain": [
       "interactive(children=(FloatSlider(value=1.0, description='betaDot', max=2.0, step=0.01), FloatSlider(value=2.5…"
      ]
     },
     "metadata": {},
     "output_type": "display_data"
    }
   ],
   "source": [
    "theta_mesh, phi_mesh = np.meshgrid(np.linspace(0, 2 * np.pi, 300), np.linspace(0, 2 * np.pi, 25))\n",
    "\n",
    "fig3d = plt.figure(figsize=(10,10))\n",
    "ax3d = fig3d.add_subplot(1,1,1, projection='3d')\n",
    "\n",
    "@interact(betaDot=(0.0, 2.0, 0.01), q=(0.1,5.0,0.1), azim=(-90, 90, 1), roll=(-90, 90, 1), elev=(-90, 90, 1), beta=(0.0, 0.999, 0.001), qrestframe=True)\n",
    "def plotBremsstrahlungPower3D(betaDot, q, azim, roll, elev, beta=0, qrestframe=True):\n",
    "    power = bremsstrahlungPower(theta_mesh, phi_mesh, beta, betaDot, q)\n",
    "    power = power / getGamma(beta)**6 if qrestframe else power\n",
    "    power_X = power * np.sin(theta_mesh) * np.cos(phi_mesh)\n",
    "    power_Y = power * np.sin(theta_mesh) * np.sin(phi_mesh)\n",
    "    power_Z = power * np.cos(theta_mesh)\n",
    "    ax3d.clear()\n",
    "    ax3d.set_xlim(-2,2)\n",
    "    ax3d.set_ylim(-2,2)\n",
    "    ax3d.set_zlim(-2,2)\n",
    "    ax3d.view_init(elev, azim, roll)\n",
    "    my_color_map = cm.jet(power/np.amax(power))\n",
    "    surface3d = ax3d.plot_surface(\n",
    "        power_X, power_Y, power_Z, \n",
    "        facecolors=my_color_map,\n",
    "        rstride=1, cstride=1, \n",
    "        linewidth=0, \n",
    "        antialiased=False, \n",
    "        alpha=0.1\n",
    "    )\n",
    "    return fig3d"
   ]
  },
  {
   "cell_type": "code",
   "execution_count": null,
   "id": "98baeb4c-e74d-42ac-8615-464c7f2280d4",
   "metadata": {},
   "outputs": [],
   "source": []
  }
 ],
 "metadata": {
  "kernelspec": {
   "display_name": "Python 3 (ipykernel)",
   "language": "python",
   "name": "python3"
  },
  "language_info": {
   "codemirror_mode": {
    "name": "ipython",
    "version": 3
   },
   "file_extension": ".py",
   "mimetype": "text/x-python",
   "name": "python",
   "nbconvert_exporter": "python",
   "pygments_lexer": "ipython3",
   "version": "3.10.12"
  }
 },
 "nbformat": 4,
 "nbformat_minor": 5
}
