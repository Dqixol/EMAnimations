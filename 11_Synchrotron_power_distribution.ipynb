{
 "cells": [
  {
   "cell_type": "code",
   "execution_count": 1,
   "id": "c01737e3-d8ce-4c00-9789-9c085d494c0d",
   "metadata": {},
   "outputs": [],
   "source": [
    "__author__ = \"Dong Qichen\"\n",
    "__license__ = \"GPL\"\n",
    "__version__ = \"3.0\""
   ]
  },
  {
   "cell_type": "code",
   "execution_count": null,
   "id": "b8c4cff3-e2c6-42d5-9a81-77476e0342a4",
   "metadata": {
    "tags": []
   },
   "outputs": [],
   "source": [
    "%pip install ipywidgets ipympl --quiet\n",
    "%matplotlib widget\n",
    "\n",
    "# Enable the custom widget manager, this is specific to the colab environment\n",
    "from google.colab import output\n",
    "output.enable_custom_widget_manager()\n",
    "\n",
    "# Display the scalar potential for a point charge, for which the speed (in units of c), beta, can be varied \n",
    "# by means of a slider \n",
    "\n",
    "import matplotlib.pyplot as plt\n",
    "from matplotlib import cm\n",
    "from ipywidgets import AppLayout, FloatSlider\n",
    "from ipywidgets import interact, interactive, fixed, interact_manual\n",
    "import matplotlib.ticker as ticker\n",
    "plt.ioff()\n",
    "\n",
    "import numpy as np"
   ]
  },
  {
   "cell_type": "code",
   "execution_count": 3,
   "id": "8f447f70-24b5-4efe-820b-73be69a29001",
   "metadata": {
    "tags": []
   },
   "outputs": [],
   "source": [
    "# Set fundamental constants relevant to electrodynamics.\n",
    "e = 1  # Elementary charge.\n",
    "c = 1  # Speed of light.\n",
    "h = 2 * np.pi  # Planck's constant.\n",
    "alpha = 1/137  # Fine-structure constant.\n",
    "epsilon_0 = e**2 / (2 * alpha * h * c)  # Vacuum permittivity."
   ]
  },
  {
   "cell_type": "code",
   "execution_count": 4,
   "id": "6c3c772a-c178-49e6-b84b-70e3cbd2857b",
   "metadata": {
    "tags": []
   },
   "outputs": [],
   "source": [
    "def getGamma(beta):\n",
    "    return 1 / (1 - beta**2)**0.5\n",
    "def SynchrotronPower(theta, phi, beta, betaDot, q):\n",
    "    gamma = getGamma(beta)\n",
    "    return \\\n",
    "        epsilon_0 * c * q**2 * betaDot**2 / (16 * np.pi**2) \\\n",
    "        / (1 - beta * np.cos(theta))**3 \\\n",
    "        * (1 - np.sin(theta)**2 * np.cos(phi)**2 / gamma**2 / (1-beta*np.cos(theta))**2)"
   ]
  },
  {
   "cell_type": "code",
   "execution_count": 5,
   "id": "62171489-533b-4692-86eb-bafd1dcf8772",
   "metadata": {
    "tags": []
   },
   "outputs": [
    {
     "data": {
      "application/vnd.jupyter.widget-view+json": {
       "model_id": "68aa2485cf1a42c1bbe2ddc95453cd65",
       "version_major": 2,
       "version_minor": 0
      },
      "text/plain": [
       "interactive(children=(FloatSlider(value=0.75, description='betaDot', max=1.5, step=0.01), FloatSlider(value=2.…"
      ]
     },
     "metadata": {},
     "output_type": "display_data"
    }
   ],
   "source": [
    "fig2d, ax2d = plt.subplots(subplot_kw={'projection': 'polar'})\n",
    "theta = np.arange(0, 2*np.pi, np.pi / 200)\n",
    "@interact(betaDot=(0.0, 1.5, 0.01), q=(0.1,5.0,0.1), beta = (0.0, 0.999, 0.001), qrestframe=True)\n",
    "def plotSynchrotronPower2D(betaDot, q, beta=0, qrestframe=True): \n",
    "    power = SynchrotronPower(theta, 0, beta, betaDot, q)\n",
    "    power = power / getGamma(beta)**4 if not qrestframe else power\n",
    "    frame = \"charge rest frame\" if qrestframe else \"lab frame\"\n",
    "    ax2d.clear()\n",
    "    ax2d.set_title(f\"Synchrotron Power, {frame}\")\n",
    "    ax2d.plot(theta, power)\n",
    "    ax2d.set_rmax(2)\n",
    "    ax2d.set_rticks([0, 0.5, 1.0, 1.5, 2])\n",
    "    return fig2d"
   ]
  },
  {
   "cell_type": "markdown",
   "id": "7e0d2918-19f4-4500-a7a9-5b47c9d28275",
   "metadata": {},
   "source": [
    "The radiated power per unit solid angle is given by\n",
    "  $$\\frac{\\mathrm{d}P_\\perp}{\\mathrm{d}\\Omega} = \\frac{\\mu_0 c q^2\\dot\\beta^2}{16\\pi^2}\\frac{1}{\\left(1-\\beta\\cos\\theta\\right)^3}\\left(1-\\frac{\\sin^2\\theta\\cos^2\\phi}{\\gamma^2\\left(1-\\beta\\cos\\theta\\right)^2}\\right),$$\n",
    "  where $\\theta$ and $\\phi$ are the polar and azimuthal angles, respectively, between $\\boldsymbol{\\beta}$ and $\\boldsymbol{R}$."
   ]
  },
  {
   "cell_type": "code",
   "execution_count": 6,
   "id": "d259bd83-b672-45c3-bba7-d34c820f8f1f",
   "metadata": {
    "tags": []
   },
   "outputs": [
    {
     "data": {
      "application/vnd.jupyter.widget-view+json": {
       "model_id": "1819c5cbb7f34254b53da6dc0ef7d589",
       "version_major": 2,
       "version_minor": 0
      },
      "text/plain": [
       "interactive(children=(FloatSlider(value=1.5, description='betaDot', max=2.0, step=0.01), FloatSlider(value=2.5…"
      ]
     },
     "metadata": {},
     "output_type": "display_data"
    }
   ],
   "source": [
    "theta_mesh, phi_mesh = np.meshgrid(np.linspace(0, 2 * np.pi, 300), np.linspace(0, 2 * np.pi, 50))\n",
    "\n",
    "fig3d = plt.figure(figsize=(10,10))\n",
    "ax3d = fig3d.add_subplot(1,1,1, projection='3d')\n",
    "ax3d.set_aspect('equalyz')\n",
    "\n",
    "@interact(betaDot=(0.0, 2.0, 0.01), q=(0.1,5.0,0.1), elev=(-90, 90, 1), azim=(-90, 90, 1), roll=(-90, 90, 1), beta=(0.0, 0.999, 0.001), qrestframe=True)\n",
    "def plotSynchrotronPower3D(betaDot=1.5, q=2.5, elev=0, azim=0, roll=0, beta=0., qrestframe=True):\n",
    "    power = SynchrotronPower(theta_mesh, phi_mesh, beta, betaDot, q)\n",
    "    power = power / getGamma(beta)**4 if qrestframe else power\n",
    "    power_X = power * np.sin(theta_mesh) * np.cos(phi_mesh)\n",
    "    power_Y = power * np.sin(theta_mesh) * np.sin(phi_mesh)\n",
    "    power_Z = power * np.cos(theta_mesh)\n",
    "    ax3d.clear()\n",
    "    ax3d.set_xlim(-2,2)\n",
    "    ax3d.set_ylim(-2,2)\n",
    "    ax3d.set_zlim(-2,2)\n",
    "    ax3d.set_aspect('equalyz')\n",
    "    ax3d.view_init(elev, azim, roll)\n",
    "    my_color_map = cm.jet(power/np.amax(power))\n",
    "    surface3d = ax3d.plot_surface(\n",
    "        power_X, power_Y, power_Z, \n",
    "        facecolors=my_color_map,\n",
    "        rstride=1, cstride=1, \n",
    "        linewidth=0, \n",
    "        antialiased=False, \n",
    "        alpha=0.1\n",
    "    )\n",
    "    return fig3d"
   ]
  },
  {
   "cell_type": "code",
   "execution_count": null,
   "id": "c2858ea9-86af-4111-b58e-14a7e282dcb9",
   "metadata": {},
   "outputs": [],
   "source": []
  },
  {
   "cell_type": "code",
   "execution_count": null,
   "id": "26e3c8a8-dab6-49a2-b150-2fe82e2e8912",
   "metadata": {},
   "outputs": [],
   "source": []
  }
 ],
 "metadata": {
  "kernelspec": {
   "display_name": "Python 3 (ipykernel)",
   "language": "python",
   "name": "python3"
  },
  "language_info": {
   "codemirror_mode": {
    "name": "ipython",
    "version": 3
   },
   "file_extension": ".py",
   "mimetype": "text/x-python",
   "name": "python",
   "nbconvert_exporter": "python",
   "pygments_lexer": "ipython3",
   "version": "3.10.12"
  }
 },
 "nbformat": 4,
 "nbformat_minor": 5
}
