{
 "cells": [
  {
   "cell_type": "code",
   "execution_count": null,
   "metadata": {},
   "outputs": [],
   "source": [
    "__author__ = \"Dong Qichen\"\n",
    "__license__ = \"GPL\"\n",
    "__version__ = \"3.0\""
   ]
  },
  {
   "cell_type": "markdown",
   "metadata": {},
   "source": [
    "This package demonstrates some matrix manipulation and some of the fundamental Div, Grad and Curl operations."
   ]
  },
  {
   "cell_type": "code",
   "execution_count": 2,
   "metadata": {
    "tags": []
   },
   "outputs": [],
   "source": [
    "import sympy.vector"
   ]
  },
  {
   "cell_type": "markdown",
   "metadata": {},
   "source": [
    "Let us look at Spherical coordinates"
   ]
  },
  {
   "cell_type": "code",
   "execution_count": 3,
   "metadata": {
    "tags": []
   },
   "outputs": [],
   "source": [
    "SC = sympy.vector.CoordSys3D('s', transformation='spherical')\n",
    "CC = sympy.vector.CoordSys3D('c', parent=SC)"
   ]
  },
  {
   "cell_type": "markdown",
   "metadata": {},
   "source": [
    "The potential of a charge \"q\" is :\n"
   ]
  },
  {
   "cell_type": "code",
   "execution_count": 4,
   "metadata": {
    "tags": []
   },
   "outputs": [
    {
     "data": {
      "text/latex": [
       "$\\displaystyle \\frac{q}{4 \\mathbf{{r}_{s}} \\pi \\epsilon_{0}}$"
      ],
      "text/plain": [
       "q/(4*s.r*pi*epsilon0)"
      ]
     },
     "execution_count": 4,
     "metadata": {},
     "output_type": "execute_result"
    }
   ],
   "source": [
    "q, epsilon_0 = sympy.symbols('q epsilon0')\n",
    "potential_SC = q / (4 * sympy.pi * SC.r * epsilon_0)\n",
    "potential_SC"
   ]
  },
  {
   "cell_type": "markdown",
   "metadata": {},
   "source": [
    "Take the gradient (and obtain the E-field in along $r (\\hat{i}_s)$, $\\theta (\\hat{j}_s)$, $\\phi (\\hat{k}_s)$)"
   ]
  },
  {
   "cell_type": "code",
   "execution_count": 5,
   "metadata": {
    "tags": []
   },
   "outputs": [
    {
     "data": {
      "text/latex": [
       "$\\displaystyle \\left(\\frac{q}{4 \\mathbf{{r}_{s}}^{2} \\pi \\epsilon_{0}}\\right)\\mathbf{\\hat{i}_{s}}$"
      ],
      "text/plain": [
       "(q/(4*s.r**2*pi*epsilon0))*s.i"
      ]
     },
     "execution_count": 5,
     "metadata": {},
     "output_type": "execute_result"
    }
   ],
   "source": [
    "efield = -sympy.vector.Del().gradient(potential_SC).doit()\n",
    "efield"
   ]
  },
  {
   "cell_type": "markdown",
   "metadata": {},
   "source": [
    "We know the Curl of an electrostatic field is zero.... "
   ]
  },
  {
   "cell_type": "code",
   "execution_count": 6,
   "metadata": {
    "tags": []
   },
   "outputs": [
    {
     "data": {
      "text/latex": [
       "$\\displaystyle \\mathbf{\\hat{0}}$"
      ],
      "text/plain": [
       "0"
      ]
     },
     "execution_count": 6,
     "metadata": {},
     "output_type": "execute_result"
    }
   ],
   "source": [
    "sympy.vector.Del().cross(efield).doit()"
   ]
  },
  {
   "cell_type": "markdown",
   "metadata": {},
   "source": [
    "Also, providing we are not at the origin (r is non - zero) then the Divergence is :"
   ]
  },
  {
   "cell_type": "code",
   "execution_count": 7,
   "metadata": {
    "tags": []
   },
   "outputs": [
    {
     "data": {
      "text/latex": [
       "$\\displaystyle 0$"
      ],
      "text/plain": [
       "0"
      ]
     },
     "execution_count": 7,
     "metadata": {},
     "output_type": "execute_result"
    }
   ],
   "source": [
    "sympy.simplify(sympy.vector.Del().dot(efield).doit())"
   ]
  },
  {
   "cell_type": "code",
   "execution_count": 8,
   "metadata": {
    "tags": []
   },
   "outputs": [
    {
     "data": {
      "text/latex": [
       "$\\displaystyle \\frac{q}{4 \\pi \\epsilon_{0} \\sqrt{\\mathbf{{x}_{c}}^{2} + \\mathbf{{y}_{c}}^{2} + \\mathbf{{z}_{c}}^{2}}}$"
      ],
      "text/plain": [
       "q/(4*pi*epsilon0*sqrt(c.x**2 + c.y**2 + c.z**2))"
      ]
     },
     "execution_count": 8,
     "metadata": {},
     "output_type": "execute_result"
    }
   ],
   "source": [
    "potential_CC = potential_SC.subs(SC.r, sympy.sqrt(CC.x**2 + CC.y**2 + CC.z**2))\n",
    "potential_CC"
   ]
  },
  {
   "cell_type": "code",
   "execution_count": 9,
   "metadata": {
    "tags": []
   },
   "outputs": [
    {
     "data": {
      "text/latex": [
       "$\\displaystyle \\left(\\frac{\\mathbf{{x}_{c}} q}{4 \\pi \\epsilon_{0} \\left(\\mathbf{{x}_{c}}^{2} + \\mathbf{{y}_{c}}^{2} + \\mathbf{{z}_{c}}^{2}\\right)^{\\frac{3}{2}}}\\right)\\mathbf{\\hat{i}_{c}} + \\left(\\frac{\\mathbf{{y}_{c}} q}{4 \\pi \\epsilon_{0} \\left(\\mathbf{{x}_{c}}^{2} + \\mathbf{{y}_{c}}^{2} + \\mathbf{{z}_{c}}^{2}\\right)^{\\frac{3}{2}}}\\right)\\mathbf{\\hat{j}_{c}} + \\left(\\frac{\\mathbf{{z}_{c}} q}{4 \\pi \\epsilon_{0} \\left(\\mathbf{{x}_{c}}^{2} + \\mathbf{{y}_{c}}^{2} + \\mathbf{{z}_{c}}^{2}\\right)^{\\frac{3}{2}}}\\right)\\mathbf{\\hat{k}_{c}}$"
      ],
      "text/plain": [
       "(c.x*q/(4*pi*epsilon0*(c.x**2 + c.y**2 + c.z**2)**(3/2)))*c.i + (c.y*q/(4*pi*epsilon0*(c.x**2 + c.y**2 + c.z**2)**(3/2)))*c.j + (c.z*q/(4*pi*epsilon0*(c.x**2 + c.y**2 + c.z**2)**(3/2)))*c.k"
      ]
     },
     "execution_count": 9,
     "metadata": {},
     "output_type": "execute_result"
    }
   ],
   "source": [
    "efield = -sympy.vector.Del().gradient(potential_CC).doit()\n",
    "efield"
   ]
  },
  {
   "cell_type": "code",
   "execution_count": 10,
   "metadata": {
    "tags": []
   },
   "outputs": [
    {
     "data": {
      "text/latex": [
       "$\\displaystyle \\mathbf{\\hat{0}}$"
      ],
      "text/plain": [
       "0"
      ]
     },
     "execution_count": 10,
     "metadata": {},
     "output_type": "execute_result"
    }
   ],
   "source": [
    "sympy.vector.Del().cross(efield).doit()"
   ]
  },
  {
   "cell_type": "code",
   "execution_count": 11,
   "metadata": {
    "tags": []
   },
   "outputs": [
    {
     "data": {
      "text/latex": [
       "$\\displaystyle 0$"
      ],
      "text/plain": [
       "0"
      ]
     },
     "execution_count": 11,
     "metadata": {},
     "output_type": "execute_result"
    }
   ],
   "source": [
    "sympy.simplify(sympy.vector.Del().dot(efield).doit())"
   ]
  },
  {
   "cell_type": "code",
   "execution_count": null,
   "metadata": {},
   "outputs": [],
   "source": []
  },
  {
   "cell_type": "code",
   "execution_count": null,
   "metadata": {},
   "outputs": [],
   "source": []
  }
 ],
 "metadata": {
  "interpreter": {
   "hash": "e7370f93d1d0cde622a1f8e1c04877d8463912d04d973331ad4851f04de6915a"
  },
  "kernelspec": {
   "display_name": "Python 3 (ipykernel)",
   "language": "python",
   "name": "python3"
  },
  "language_info": {
   "codemirror_mode": {
    "name": "ipython",
    "version": 3
   },
   "file_extension": ".py",
   "mimetype": "text/x-python",
   "name": "python",
   "nbconvert_exporter": "python",
   "pygments_lexer": "ipython3",
   "version": "3.10.12"
  }
 },
 "nbformat": 4,
 "nbformat_minor": 4
}
