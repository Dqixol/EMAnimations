{
 "cells": [
  {
   "cell_type": "code",
   "execution_count": 1,
   "id": "bed49531-2eff-4d4d-8707-d3ad046ff028",
   "metadata": {
    "tags": []
   },
   "outputs": [],
   "source": [
    "__author__ = [\"Terry Wyatt\", \"Dong Qichen\"]\n",
    "__license__ = \"GPL\"\n",
    "__version__ = \"3.0\""
   ]
  },
  {
   "cell_type": "code",
   "execution_count": null,
   "id": "e8805371-9122-4512-98e1-006e3ce49415",
   "metadata": {
    "tags": []
   },
   "outputs": [],
   "source": [
    "%pip install ipywidgets ipympl --quiet\n",
    "%matplotlib widget\n",
    "\n",
    "# Enable the custom widget manager, this is specific to the colab environment\n",
    "from google.colab import output\n",
    "output.enable_custom_widget_manager()\n",
    "\n",
    "# Display the power distribution for an isotropic source boosted into a frame in which it is moving, for which the speed (in units of c), beta, can be varied \n",
    "# by means of a slider \n",
    "\n",
    "import matplotlib.pyplot as plt\n",
    "from matplotlib import cm\n",
    "from ipywidgets import AppLayout, FloatSlider\n",
    "from ipywidgets import interact, interactive, fixed, widgets\n",
    "import matplotlib.ticker as ticker\n",
    "plt.ioff()\n",
    "\n",
    "import numpy as np"
   ]
  },
  {
   "cell_type": "code",
   "execution_count": 3,
   "id": "611d4177-39a0-4a07-923a-2bb5f290e16b",
   "metadata": {
    "tags": []
   },
   "outputs": [],
   "source": [
    "def getGamma(beta):\n",
    "    return 1 / (1 - beta**2)**0.5\n",
    "def isotropicPower(theta, phi, beta, P):\n",
    "    return \\\n",
    "        P / (getGamma(beta)**4 * (1 - beta * np.cos(theta))**3)"
   ]
  },
  {
   "cell_type": "code",
   "execution_count": 4,
   "id": "37ab77cc-50ad-40c3-be11-a06821be86df",
   "metadata": {
    "tags": []
   },
   "outputs": [
    {
     "data": {
      "application/vnd.jupyter.widget-view+json": {
       "model_id": "28125aa78c7644beb532b230d9d9d539",
       "version_major": 2,
       "version_minor": 0
      },
      "text/plain": [
       "interactive(children=(FloatSlider(value=0.1, description='P', layout=Layout(width='90%'), max=0.2, min=0.001, …"
      ]
     },
     "metadata": {},
     "output_type": "display_data"
    }
   ],
   "source": [
    "fig2d, ax2d = plt.subplots(subplot_kw={'projection': 'polar'})\n",
    "theta = np.arange(0, 2*np.pi, np.pi / 200)\n",
    "\n",
    "@interact(\n",
    "    P    = widgets.FloatSlider(min=0.001, max=0.2, step=0.001, value=0.1, layout=widgets.Layout(width='90%')),\n",
    "    beta = widgets.FloatSlider(min=0.0, max=0.999, step=0.001, value=0.0, layout=widgets.Layout(width='90%')),\n",
    ")\n",
    "def plotIsotropicPower2D(P, beta=0): \n",
    "    power = isotropicPower(theta, 0, beta, P)\n",
    "    ax2d.clear()\n",
    "    ax2d.set_title(f\"Isotropic Power Distribution: Lorentz Boosted\")\n",
    "    ax2d.plot(theta, power)\n",
    "    ax2d.set_rmax(2)\n",
    "    ax2d.set_rticks([0, 0.5, 1.0, 1.5, 2])\n",
    "    return fig2d"
   ]
  },
  {
   "cell_type": "markdown",
   "id": "87ea823b-1323-49c4-bb1c-37522c844ac7",
   "metadata": {},
   "source": [
    "As derived in the lectures, the angular distribution of the radiated power in the rest frame, $\\frac{\\mathrm{d} P^\\prime}{\\mathrm{d}\\Omega^\\prime}$, and  in the frame in which the\n",
    "  point charge is moving, $\\frac{\\mathrm{d} P}{\\mathrm{d}\\Omega}$, are related by:\n",
    "  $$\\frac{\\mathrm{d}P^\\prime}{\\mathrm{d}\\Omega^\\prime}=\\gamma^4\\left(1-\\beta\\cos\\theta\\right)^3\\frac{\\mathrm{d}P}{\\mathrm{d}\\Omega}.$$\n",
    "  \n",
    "  In the case considered here, the radiated power in the rest frame is isotropic: $\\frac{\\mathrm{d} P^\\prime}{\\mathrm{d}\\Omega^\\prime}=P$, where $P$ is a constant. "
   ]
  },
  {
   "cell_type": "code",
   "execution_count": 21,
   "id": "01af2bf1-a783-4277-9c69-74c9c4f5cad6",
   "metadata": {
    "tags": []
   },
   "outputs": [
    {
     "data": {
      "application/vnd.jupyter.widget-view+json": {
       "model_id": "27999a07897548b7b53a025e4a20a5a4",
       "version_major": 2,
       "version_minor": 0
      },
      "text/plain": [
       "interactive(children=(FloatSlider(value=0.1, description='P', layout=Layout(width='90%'), max=0.2, min=0.001, …"
      ]
     },
     "metadata": {},
     "output_type": "display_data"
    }
   ],
   "source": [
    "theta_mesh, phi_mesh = np.meshgrid(np.linspace(0, 2 * np.pi, 300), np.linspace(0, 2 * np.pi, 25))\n",
    "\n",
    "fig3d = plt.figure(figsize=(10,10))\n",
    "ax3d = fig3d.add_subplot(1,1,1, projection='3d')\n",
    "\n",
    "@interact(\n",
    "    P    = widgets.FloatSlider(min=0.001, max=0.2, step=0.001, value=0.1, layout=widgets.Layout(width='90%')),\n",
    "    azim = widgets.IntSlider(min=-90, max=90, step=1, value=0, layout=widgets.Layout(width='90%')),\n",
    "    roll = widgets.IntSlider(min=-90, max=90, step=1, value=0, layout=widgets.Layout(width='90%')),\n",
    "    elev = widgets.IntSlider(min=-90, max=90, step=1, value=0, layout=widgets.Layout(width='90%')),\n",
    "    beta = widgets.FloatSlider(min=0.0, max=0.999, step=0.001, value=0.0, layout=widgets.Layout(width='90%')),\n",
    ")\n",
    "def plotIstropicPower3D(P, azim, roll, elev, beta=0):\n",
    "    power = isotropicPower(theta_mesh, phi_mesh, beta, P)\n",
    "    power_X = power * np.sin(theta_mesh) * np.cos(phi_mesh)\n",
    "    power_Y = power * np.sin(theta_mesh) * np.sin(phi_mesh)\n",
    "    power_Z = power * np.cos(theta_mesh)\n",
    "    ax3d.clear()\n",
    "    ax3d.set_xlim(-2,2)\n",
    "    ax3d.set_ylim(-2,2)\n",
    "    ax3d.set_zlim(-2,2)\n",
    "    ax3d.view_init(elev, azim, roll)\n",
    "    my_color_map = cm.jet(power/np.amax(power))\n",
    "    surface3d = ax3d.plot_surface(\n",
    "        power_X, power_Y, power_Z, \n",
    "        facecolors=my_color_map,\n",
    "        rstride=1, cstride=1, \n",
    "        linewidth=0, \n",
    "        antialiased=False, \n",
    "        alpha=0.1\n",
    "    )\n",
    "    return fig3d"
   ]
  },
  {
   "cell_type": "code",
   "execution_count": null,
   "id": "98baeb4c-e74d-42ac-8615-464c7f2280d4",
   "metadata": {},
   "outputs": [],
   "source": []
  }
 ],
 "metadata": {
  "kernelspec": {
   "display_name": "Python 3 (ipykernel)",
   "language": "python",
   "name": "python3"
  },
  "language_info": {
   "codemirror_mode": {
    "name": "ipython",
    "version": 3
   },
   "file_extension": ".py",
   "mimetype": "text/x-python",
   "name": "python",
   "nbconvert_exporter": "python",
   "pygments_lexer": "ipython3",
   "version": "3.10.12"
  }
 },
 "nbformat": 4,
 "nbformat_minor": 5
}
