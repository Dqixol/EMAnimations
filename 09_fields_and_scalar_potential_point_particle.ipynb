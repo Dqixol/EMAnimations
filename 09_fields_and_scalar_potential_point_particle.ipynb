{
 "cells": [
  {
   "cell_type": "code",
   "execution_count": 1,
   "metadata": {},
   "outputs": [],
   "source": [
    "__author__ = \"Dong Qichen\"\n",
    "__license__ = \"GPL\"\n",
    "__version__ = \"3.0\""
   ]
  },
  {
   "cell_type": "code",
   "execution_count": 2,
   "metadata": {
    "tags": []
   },
   "outputs": [],
   "source": [
    "%matplotlib widget\n",
    "\n",
    "# Display the scalar potential for a point charge, for which the speed (in units of c), beta, can be varied \n",
    "# by means of a slider \n",
    "\n",
    "import matplotlib.pyplot as plt\n",
    "from matplotlib import cm\n",
    "from ipywidgets import AppLayout, FloatSlider\n",
    "import matplotlib.ticker as ticker\n",
    "plt.ioff()\n",
    "\n",
    "import numpy as np"
   ]
  },
  {
   "cell_type": "code",
   "execution_count": 3,
   "metadata": {
    "tags": []
   },
   "outputs": [],
   "source": [
    "# Set fundamental constants relevant to electrodynamics.\n",
    "e = 1  # Elementary charge.\n",
    "c = 1  # Speed of light.\n",
    "h = 2 * np.pi  # Planck's constant.\n",
    "alpha = 1/137  # Fine-structure constant.\n",
    "epsilon_0 = e**2 / (2 * alpha * h * c)  # Vacuum permittivity.\n",
    "\n",
    "# Define a function 'calcA0' to calculate the vector potential (A0) at a given position (x_1, x_2) for a charged particle.\n",
    "def calcA0(x_1, x_2, beta, q):\n",
    "    # Calculate the distance from the source to the observation point (R) and the polar angle (theta).\n",
    "    R = np.sqrt(x_1**2 + x_2**2)\n",
    "    theta = np.arctan(x_2 / x_1)\n",
    "    \n",
    "    # Calculate the vector potential A0 using the formula for a moving charged particle.\n",
    "    A0 = q / (4 * np.pi * epsilon_0 * c * R) / (1 - (beta * np.sin(theta))**2)**0.5\n",
    "    \n",
    "    return A0\n",
    "\n",
    "# Define a function 'calcE1E2' to calculate the electric field components (E1, E2) and magnitude (abs_E) at a given position (x_1, x_2).\n",
    "def calcE1E2(x_1, x_2, beta, q):\n",
    "    # Calculate the distance from the source to the observation point (R) and the polar angle (theta).\n",
    "    R = np.sqrt(x_1**2 + x_2**2)\n",
    "    theta = np.arctan(x_2 / x_1)\n",
    "    \n",
    "    # Adjust the polar angle (theta) based on the particle's direction of motion.\n",
    "    theta = theta + (x_1 < 0) * np.pi\n",
    "    \n",
    "    # Calculate the Lorentz factor (gamma) associated with the relativistic speed (beta).\n",
    "    gamma = 1 / (1 - beta**2)**0.5\n",
    "    \n",
    "    # Calculate the magnitude of the electric field (abs_E) using the formula for a moving charged particle.\n",
    "    abs_E = (q / (4 * np.pi * epsilon_0 * R**2)) * (1 / gamma**2) * (1 / (1 - beta**2 * np.sin(theta)**2))**1.5\n",
    "    \n",
    "    # Calculate the electric field components (E1 and E2) based on the polar angle (theta).\n",
    "    E_1 = abs_E * np.cos(theta)\n",
    "    E_2 = abs_E * np.sin(theta)\n",
    "    \n",
    "    return (E_1, E_2, abs_E)\n"
   ]
  },
  {
   "cell_type": "code",
   "execution_count": 4,
   "metadata": {},
   "outputs": [
    {
     "data": {
      "text/plain": [
       "<a list of 2 text.Text objects>"
      ]
     },
     "execution_count": 4,
     "metadata": {},
     "output_type": "execute_result"
    }
   ],
   "source": [
    "beta = 0\n",
    "# Create a figure for visualizing electromagnetic fields with three subplots.\n",
    "fig = plt.figure(figsize=(12, 4))\n",
    "\n",
    "# Subplot 1: Vector Potential (A0)\n",
    "ax1 = fig.add_subplot(131, autoscale_on=False, xlim=(-1, 1), ylim=(-1, 1), aspect='equal')\n",
    "ax1.set_title('A0')\n",
    "\n",
    "# Create a grid of x and y coordinates for A0 calculation.\n",
    "x1_grid, x2_grid = np.meshgrid(np.linspace(-1, 1, 500), np.linspace(-1, 1, 500))\n",
    "\n",
    "# Calculate A0 and create a pcolormesh plot for visualization.\n",
    "mesh1 = ax1.pcolormesh(x1_grid, x2_grid, calcA0(x1_grid, x2_grid, beta=beta, q=1), cmap=cm.coolwarm, vmin=0, vmax=1.0)\n",
    "\n",
    "# Add a text label to display information in this subplot.\n",
    "text1 = ax1.text(0.02, 0.85, '', transform=ax1.transAxes, fontsize=25)\n",
    "\n",
    "# Subplot 2: Electric Field Stream Plot\n",
    "ax2 = fig.add_subplot(132, autoscale_on=False, xlim=(-1, 1), ylim=(-1, 1), aspect='equal')\n",
    "ax2.set_title('E Field Stream Plot')\n",
    "\n",
    "# Calculate the electric field components E_1, E_2, and E_abs.\n",
    "E_1, E_2, E_abs = calcE1E2(x1_grid, x2_grid, beta=beta, q=1)\n",
    "\n",
    "# Plot streamlines of the electric field using appropriate settings.\n",
    "color = np.log(1 + E_abs)\n",
    "lw    = color\n",
    "\n",
    "# Create a circle of radius 0.1 centered at the origin. To determine the starting points for the streamlines,\n",
    "step = np.pi/200\n",
    "circle_theta = np.arange(0, 2*np.pi, step)\n",
    "circle_r = 0.1\n",
    "circle_x, circle_y = circle_r * np.cos(circle_theta), circle_r * np.sin(circle_theta)\n",
    "e1_along_circle, e2_along_circle, eabs_along_circle = calcE1E2(circle_x, circle_y, beta=beta, q=1)\n",
    "n_lines = 16\n",
    "\n",
    "e_abs_integral_around_circle = np.cumsum(eabs_along_circle)\n",
    "e_abs_integral_around_circle = e_abs_integral_around_circle / e_abs_integral_around_circle[-1]\n",
    "starting_points_index  = []\n",
    "for i in range(n_lines):\n",
    "    starting_points_index.append(np.argmin(np.abs(e_abs_integral_around_circle - i/n_lines)))\n",
    "starting_points_index = np.array(starting_points_index)\n",
    "starting_points = np.array([circle_x[starting_points_index], circle_y[starting_points_index]]).T\n",
    "\n",
    "# Create streamlines with arrowheads and colormap.\n",
    "streams = ax2.streamplot(\n",
    "    x1_grid, x2_grid, E_1, E_2,\n",
    "    color=color,\n",
    "    linewidth=lw,\n",
    "    arrowstyle='->',\n",
    "    arrowsize=1,\n",
    "    broken_streamlines=False,\n",
    "    start_points=starting_points,\n",
    ")\n",
    "\n",
    "# Subplot 3: Electric Field Contour Plot\n",
    "ax3 = fig.add_subplot(133, autoscale_on=False, xlim=(-1, 1), ylim=(-1, 1), aspect='equal')\n",
    "ax3.set_title('E Field Contour Plot')\n",
    "\n",
    "# Create a contour plot to visualize the magnitude of the electric field.\n",
    "contour = ax3.contour(x1_grid, x2_grid, E_abs, locator=plt.LogLocator())\n",
    "fmt = ticker.LogFormatterMathtext()\n",
    "fmt.create_dummy_axis()\n",
    "\n",
    "# Label contour lines with logarithmic formatting.\n",
    "ax3.clabel(contour, contour.levels, fmt=fmt)"
   ]
  },
  {
   "cell_type": "code",
   "execution_count": 5,
   "metadata": {
    "tags": []
   },
   "outputs": [
    {
     "data": {
      "application/vnd.jupyter.widget-view+json": {
       "model_id": "6d95ec0b60e5476795a2bbdc75612ed6",
       "version_major": 2,
       "version_minor": 0
      },
      "text/plain": [
       "AppLayout(children=(FloatSlider(value=0.0, description='Beta:', layout=Layout(grid_area='footer', width='90%')…"
      ]
     },
     "execution_count": 5,
     "metadata": {},
     "output_type": "execute_result"
    }
   ],
   "source": [
    "# Create a FloatSlider widget to control the value of 'beta'.\n",
    "slider = FloatSlider(\n",
    "    orientation='horizontal',\n",
    "    description='Beta:',\n",
    "    value=0.0,\n",
    "    step=0.00005,\n",
    "    min=0.0,\n",
    "    max=0.99999,\n",
    "    readout=False,\n",
    ")\n",
    "\n",
    "# Set the width of the slider widget.\n",
    "slider.layout.width = '90%'\n",
    "\n",
    "# Define an update function that gets triggered when the slider value changes.\n",
    "def update(beta_slider): \n",
    "    # Calculate the new value of 'beta' by taking the square root of the slider's value.\n",
    "    beta_new = (beta_slider.new) ** 0.2\n",
    "    \n",
    "    # Calculate the vector potential (A0) with the updated 'beta'.\n",
    "    A0s = calcA0(x1_grid, x2_grid, beta_new, 1)\n",
    "    \n",
    "    # Calculate the electric field components and magnitude with the updated 'beta'.\n",
    "    E_1, E_2, E_abs = calcE1E2(x1_grid, x2_grid, beta=beta_new, q=1)\n",
    "    \n",
    "    # Update the pcolormesh plot for 'A0'.\n",
    "    mesh1.set_array(A0s.ravel())\n",
    "    \n",
    "    # Update the text to display the current 'beta' value.\n",
    "    text1.set_text('$\\\\beta$ = {:.7f}'.format(beta_new))\n",
    "    \n",
    "    # Clear and update the electric field stream plot.\n",
    "    ax2.clear()\n",
    "    ax2.set_title('E Field Stream Plot')\n",
    "    color = np.log(1 + E_abs)\n",
    "    lw    = 2 * color * (color < 1) + 2 * (color > 1)\n",
    "    \n",
    "    # Create a circle of radius 0.1 centered at the origin. To determine the starting points for the streamlines,\n",
    "    step = np.pi/200\n",
    "    circle_theta = np.arange(0, 2*np.pi, step)\n",
    "    circle_r = 0.1\n",
    "    circle_x, circle_y = circle_r * np.cos(circle_theta), circle_r * np.sin(circle_theta)\n",
    "    e1_along_circle, e2_along_circle, eabs_along_circle = calcE1E2(circle_x, circle_y, beta=beta_new, q=1)\n",
    "    n_lines = 16\n",
    "\n",
    "    e_abs_integral_around_circle = np.cumsum(eabs_along_circle)\n",
    "    e_abs_integral_around_circle = e_abs_integral_around_circle / e_abs_integral_around_circle[-1]\n",
    "    starting_points_index  = []\n",
    "    for i in range(n_lines):\n",
    "        starting_points_index.append(np.argmin(np.abs(e_abs_integral_around_circle - i/n_lines)))\n",
    "    starting_points_index = np.array(starting_points_index)\n",
    "    starting_points = np.array([circle_x[starting_points_index], circle_y[starting_points_index]]).T\n",
    "    \n",
    "    streams = ax2.streamplot(\n",
    "        x1_grid, x2_grid, E_1, E_2,\n",
    "        color=color,\n",
    "        linewidth=lw,\n",
    "        arrowstyle='->',\n",
    "        arrowsize=1,\n",
    "        broken_streamlines=False,\n",
    "        start_points=starting_points,\n",
    "    )\n",
    "    # Clear and update the electric field contour plot.\n",
    "    ax3.clear()\n",
    "    ax3.set_title('E Field Contour Plot')\n",
    "    contour = ax3.contour(x1_grid, x2_grid, E_abs, locator=plt.LogLocator())\n",
    "    fmt = ticker.LogFormatterMathtext()\n",
    "    fmt.create_dummy_axis()\n",
    "    levels = contour.levels[:4]\n",
    "    ax3.clabel(contour, levels, fmt=fmt)\n",
    "    \n",
    "    # Redraw the figure canvas to reflect the updates.\n",
    "    fig.canvas.draw()\n",
    "    fig.canvas.flush_events()\n",
    "\n",
    "# Observe changes in the slider's value and trigger the 'update' function accordingly.\n",
    "slider.observe(update, names='value')\n",
    "\n",
    "# Create an AppLayout with the canvas as the center and the slider as the footer.\n",
    "AppLayout(\n",
    "    center=fig.canvas,\n",
    "    footer=slider,\n",
    ")\n"
   ]
  },
  {
   "cell_type": "markdown",
   "metadata": {},
   "source": [
    "The scalar potential may be expressed by\n",
    "$$\\frac{V}{c}=A^0 = \\frac{q}{4\\pi \\varepsilon_0 cR}\\left(\\frac{1}{1-\\beta^2\\sin^2\\theta}\\right)^{\\frac{1}{2}},$$\n",
    "where $\\boldsymbol{R}$ is the vector from the current position  $x^1=\\beta x^0, x^2=0,x^3=0$ of the point charge to the point at which the field is\n",
    "evaluated. The magnitude of $R$ is given by\n",
    "$$R^2  = \\left[x^1-\\beta x^0\\right]^2+\\left(x^{2}\\right)^2+\\left(x^{3}\\right)^2.$$\n",
    " $\\theta$ is the angle between $\\boldsymbol{R}$ and the direction of motion.\n",
    " \n",
    " The magnitude of  $\\boldsymbol{E}$ may be expressed as\n",
    "$$E = \\frac{q}{4\\pi \\varepsilon_0 R^2}\\frac{1}{\\gamma^2}\\left(\\frac{1}{1-\\beta^2\\sin^2\\theta}\\right)^{\\frac{3}{2}}.$$"
   ]
  },
  {
   "cell_type": "code",
   "execution_count": null,
   "metadata": {},
   "outputs": [],
   "source": []
  }
 ],
 "metadata": {
  "kernelspec": {
   "display_name": "Python 3 (ipykernel)",
   "language": "python",
   "name": "python3"
  },
  "language_info": {
   "codemirror_mode": {
    "name": "ipython",
    "version": 3
   },
   "file_extension": ".py",
   "mimetype": "text/x-python",
   "name": "python",
   "nbconvert_exporter": "python",
   "pygments_lexer": "ipython3",
   "version": "3.10.12"
  },
  "vscode": {
   "interpreter": {
    "hash": "767d51c1340bd893661ea55ea3124f6de3c7a262a8b4abca0554b478b1e2ff90"
   }
  }
 },
 "nbformat": 4,
 "nbformat_minor": 4
}
